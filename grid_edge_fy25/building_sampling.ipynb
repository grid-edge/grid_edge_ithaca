{
 "cells": [
  {
   "cell_type": "markdown",
   "id": "e9e379a2-5528-404f-a28e-6c0d1fc2d219",
   "metadata": {},
   "source": [
    "### 1. Load Data "
   ]
  },
  {
   "cell_type": "code",
   "execution_count": null,
   "id": "da277138-622c-4810-8b42-38db130873ea",
   "metadata": {},
   "outputs": [],
   "source": [
    "# Load AMI profiles\n",
    "\n",
    "# Aggregate to feeder node level\n",
    "\n",
    "# Normalize for weather\n",
    "\n",
    "# Load ResStock models for a region"
   ]
  },
  {
   "cell_type": "markdown",
   "id": "b7e06acb-26d3-41fc-ac85-6d643e1ba69a",
   "metadata": {},
   "source": [
    "### 2. Sensitivity Analysis"
   ]
  },
  {
   "cell_type": "code",
   "execution_count": null,
   "id": "6ac75549-626d-4ce4-826c-91c30fbf2602",
   "metadata": {},
   "outputs": [],
   "source": [
    "# For the given resstock models in Ithaca, perform a sensitivity analysis to determine characteristics with most impact on energy consumption"
   ]
  },
  {
   "cell_type": "markdown",
   "id": "89bc786b-68d5-4b34-a6fa-f2b1d7f067eb",
   "metadata": {},
   "source": [
    "### 3. KNN Resstock Model Sampling using Building Characteristics"
   ]
  },
  {
   "cell_type": "code",
   "execution_count": null,
   "id": "aaf8973b-54c4-49e0-b513-1e51f05310eb",
   "metadata": {},
   "outputs": [],
   "source": [
    "# Dictionary of high level input characteristics for each buildin ID on site\n",
    "\n",
    "# KNN algorithm for finding set of n ResStock building matches\n",
    "\n",
    "# Create aggregate building groupings for representing each building ID at a feeder node. This will result in a list of building groupings\n",
    "\n",
    "# Normalize for weather"
   ]
  },
  {
   "cell_type": "markdown",
   "id": "ef995b51-31cf-4ae0-8a24-cde2c8e3068f",
   "metadata": {},
   "source": [
    "### 4. Optimization"
   ]
  },
  {
   "cell_type": "code",
   "execution_count": null,
   "id": "7800be7a-ab8f-4dd7-ad39-bb45525c398d",
   "metadata": {},
   "outputs": [],
   "source": [
    "# Algorithm\n",
    "\n",
    "# Define constraints, objective function to find best building group matches\n",
    "# Note: Constraints should ideally include known building energy properties based on feeder model to pick right building model \n",
    "\n",
    "# Loop through all building groupings for a feeder node, and run optimization, to minimize error between AMI load profile and aggregate building group load profile"
   ]
  }
 ],
 "metadata": {
  "kernelspec": {
   "display_name": "Python 3 (ipykernel)",
   "language": "python",
   "name": "python3"
  },
  "language_info": {
   "codemirror_mode": {
    "name": "ipython",
    "version": 3
   },
   "file_extension": ".py",
   "mimetype": "text/x-python",
   "name": "python",
   "nbconvert_exporter": "python",
   "pygments_lexer": "ipython3",
   "version": "3.13.2"
  }
 },
 "nbformat": 4,
 "nbformat_minor": 5
}
